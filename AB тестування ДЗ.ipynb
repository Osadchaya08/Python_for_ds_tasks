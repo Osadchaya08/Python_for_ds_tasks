{
 "cells": [
  {
   "cell_type": "code",
   "execution_count": 1,
   "id": "e9ed7255",
   "metadata": {},
   "outputs": [],
   "source": [
    "import pandas as pd"
   ]
  },
  {
   "cell_type": "code",
   "execution_count": 7,
   "id": "83ca4d46",
   "metadata": {},
   "outputs": [],
   "source": [
    "# Завдання 1.\n",
    "df = pd.read_csv('/Users/applebuy/Downloads/data_statistics/cookie_cats.csv')"
   ]
  },
  {
   "cell_type": "code",
   "execution_count": 8,
   "id": "024d8931",
   "metadata": {},
   "outputs": [],
   "source": [
    "retention_means = df.groupby('version')['retention_7'].mean()"
   ]
  },
  {
   "cell_type": "code",
   "execution_count": 9,
   "id": "4e0da5dc",
   "metadata": {},
   "outputs": [
    {
     "name": "stdout",
     "output_type": "stream",
     "text": [
      "version\n",
      "gate_30    0.190201\n",
      "gate_40    0.182000\n",
      "Name: retention_7, dtype: float64\n"
     ]
    }
   ],
   "source": [
    "print(retention_means)"
   ]
  },
  {
   "cell_type": "code",
   "execution_count": null,
   "id": "204a31c0",
   "metadata": {},
   "outputs": [],
   "source": [
    "#Гіпотеза: Версія гри з воротами на рівні 40 (gate_40) дає краще утримання гравців через 7 днів після встановлення гри, порівняно з версією з воротами на рівні 30 (gate_30)."
   ]
  },
  {
   "cell_type": "code",
   "execution_count": 11,
   "id": "f52c20b8",
   "metadata": {},
   "outputs": [],
   "source": [
    "# Завдання 2.\n",
    "\n",
    "from statsmodels.stats.proportion import proportions_ztest, proportion_confint\n",
    "\n",
    "# Кількість користувачів в кожній групі\n",
    "n_gate_30 = df[df['version'] == 'gate_30']['retention_7'].count()\n",
    "n_gate_40 = df[df['version'] == 'gate_40']['retention_7'].count()"
   ]
  },
  {
   "cell_type": "code",
   "execution_count": 12,
   "id": "8d6fbfc4",
   "metadata": {},
   "outputs": [],
   "source": [
    "# Кількість користувачів, що повернулися через 7 днів\n",
    "successes_gate_30 = df[df['version'] == 'gate_30']['retention_7'].sum()\n",
    "successes_gate_40 = df[df['version'] == 'gate_40']['retention_7'].sum()"
   ]
  },
  {
   "cell_type": "code",
   "execution_count": 14,
   "id": "deecf58d",
   "metadata": {},
   "outputs": [
    {
     "name": "stdout",
     "output_type": "stream",
     "text": [
      "z statistic: 3.164358912748191\n",
      "p-value: 0.001554249975614329\n"
     ]
    }
   ],
   "source": [
    "# Виконання Z-тесту\n",
    "count = [successes_gate_30, successes_gate_40]\n",
    "nobs = [n_gate_30, n_gate_40]\n",
    "\n",
    "z_stat, p_val = proportions_ztest(count, nobs)\n",
    "print(f\"z statistic: {z_stat}\")\n",
    "print(f\"p-value: {p_val}\")"
   ]
  },
  {
   "cell_type": "code",
   "execution_count": 15,
   "id": "d6b24fce",
   "metadata": {},
   "outputs": [
    {
     "name": "stdout",
     "output_type": "stream",
     "text": [
      "Довірчий інтервал 95% для групи control: (0.18656311652199903, 0.19383956804175934)\n",
      "Довірчий інтервал 95% для групи treatment: (0.17845430073314686, 0.18554578720019968)\n"
     ]
    }
   ],
   "source": [
    "# Розрахунок довірчих інтервалів\n",
    "ci_gate_30 = proportion_confint(successes_gate_30, n_gate_30, alpha=0.05)\n",
    "ci_gate_40 = proportion_confint(successes_gate_40, n_gate_40, alpha=0.05)\n",
    "\n",
    "print(f\"Довірчий інтервал 95% для групи control: {ci_gate_30}\")\n",
    "print(f\"Довірчий інтервал 95% для групи treatment: {ci_gate_40}\")"
   ]
  },
  {
   "cell_type": "code",
   "execution_count": 16,
   "id": "07b03495",
   "metadata": {},
   "outputs": [
    {
     "name": "stdout",
     "output_type": "stream",
     "text": [
      "Статистично значуща різниця між поведінкою користувачів у різних версіях гри.\n",
      "Довірчі інтервали утримання користувачів з різних версій гри не перетинаються.\n",
      "Це означає, що різниця між версіями є суттєвою.\n"
     ]
    }
   ],
   "source": [
    "if p_val < 0.05:\n",
    "    print(\"Статистично значуща різниця між поведінкою користувачів у різних версіях гри.\")\n",
    "else:\n",
    "    print(\"Статистично значущої різниці між поведінкою користувачів у різних версіях гри немає.\")\n",
    "\n",
    "if (ci_gate_30[1] < ci_gate_40[0]) or (ci_gate_40[1] < ci_gate_30[0]):\n",
    "    print(\"Довірчі інтервали утримання користувачів з різних версій гри не перетинаються.\")\n",
    "    print(\"Це означає, що різниця між версіями є суттєвою.\")\n",
    "else:\n",
    "    print(\"Довірчі інтервали утримання користувачів з різних версій гри перетинаються.\")\n",
    "    print(\"Це означає, що різниця між версіями не є суттєвою.\")"
   ]
  }
 ],
 "metadata": {
  "kernelspec": {
   "display_name": "Python 3 (ipykernel)",
   "language": "python",
   "name": "python3"
  },
  "language_info": {
   "codemirror_mode": {
    "name": "ipython",
    "version": 3
   },
   "file_extension": ".py",
   "mimetype": "text/x-python",
   "name": "python",
   "nbconvert_exporter": "python",
   "pygments_lexer": "ipython3",
   "version": "3.11.5"
  }
 },
 "nbformat": 4,
 "nbformat_minor": 5
}
