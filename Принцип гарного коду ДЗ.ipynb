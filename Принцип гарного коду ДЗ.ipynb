{
 "cells": [
  {
   "cell_type": "code",
   "execution_count": 1,
   "id": "9b0c85ec",
   "metadata": {},
   "outputs": [
    {
     "name": "stdout",
     "output_type": "stream",
     "text": [
      "Hello, John\n"
     ]
    },
    {
     "data": {
      "text/plain": [
       "None"
      ]
     },
     "metadata": {},
     "output_type": "display_data"
    },
    {
     "data": {
      "text/plain": [
       "8"
      ]
     },
     "metadata": {},
     "output_type": "display_data"
    }
   ],
   "source": [
    "def greet(name):print(f\"Hello, {name}\")\n",
    "def add(n1,n2):return n1+n2\n",
    "\n",
    "x = 5;y = 3\n",
    "display(greet(\"John\"),add(x,y))"
   ]
  },
  {
   "cell_type": "code",
   "execution_count": 2,
   "id": "8fe41bcf",
   "metadata": {},
   "outputs": [],
   "source": [
    "def greet(name):\n",
    "    print(f\"Hello, {name}\")"
   ]
  },
  {
   "cell_type": "code",
   "execution_count": 3,
   "id": "a749eee6",
   "metadata": {},
   "outputs": [],
   "source": [
    "def add(n1, n2):\n",
    "    return n1 + n2"
   ]
  },
  {
   "cell_type": "code",
   "execution_count": 4,
   "id": "f426c583",
   "metadata": {},
   "outputs": [],
   "source": [
    "x = 5\n",
    "y = 3"
   ]
  },
  {
   "cell_type": "code",
   "execution_count": 5,
   "id": "9c5c4406",
   "metadata": {},
   "outputs": [
    {
     "name": "stdout",
     "output_type": "stream",
     "text": [
      "Hello, John\n",
      "8\n"
     ]
    }
   ],
   "source": [
    "greet(\"John\")\n",
    "result = add(x, y)\n",
    "print(result)"
   ]
  },
  {
   "cell_type": "code",
   "execution_count": 6,
   "id": "e10796a6",
   "metadata": {},
   "outputs": [],
   "source": [
    "# Завдання 1: \n",
    "1) кожна функція відокремлена для поліпшення читабельності; \n",
    "2) додані відступи для тіла функцій; \n",
    "3) змінні x та y оголошені кожна у новому рядку; \n",
    "4) результат функції add зберігається у змінну result; \n",
    "5) функцію display замінено на окремі виклики функцій greet та print."
   ]
  },
  {
   "cell_type": "code",
   "execution_count": 7,
   "id": "89895473",
   "metadata": {},
   "outputs": [
    {
     "name": "stdout",
     "output_type": "stream",
     "text": [
      "Area: 78.53981633974483 Circumference: 31.41592653589793\n"
     ]
    }
   ],
   "source": [
    "from math import *\n",
    "def calcArea(r):return pi*r**2\n",
    "def calcCircumference(r):return 2*pi*r\n",
    "\n",
    "radius=5\n",
    "print(\"Area:\",calcArea(radius),\"Circumference:\",calcCircumference(radius))"
   ]
  },
  {
   "cell_type": "code",
   "execution_count": 8,
   "id": "977bc48e",
   "metadata": {},
   "outputs": [],
   "source": [
    "from math import pi"
   ]
  },
  {
   "cell_type": "code",
   "execution_count": 9,
   "id": "4ba6667f",
   "metadata": {},
   "outputs": [],
   "source": [
    "def calc_area(r):\n",
    "    return pi * r ** 2"
   ]
  },
  {
   "cell_type": "code",
   "execution_count": 11,
   "id": "bf8e17d1",
   "metadata": {},
   "outputs": [],
   "source": [
    "def calc_circumference(r):\n",
    "    return 2 * pi * r"
   ]
  },
  {
   "cell_type": "code",
   "execution_count": 12,
   "id": "d51b446c",
   "metadata": {},
   "outputs": [],
   "source": [
    "radius = 5\n",
    "area = calc_area(radius)\n",
    "circumference = calc_circumference(radius)"
   ]
  },
  {
   "cell_type": "code",
   "execution_count": 13,
   "id": "f36512ff",
   "metadata": {},
   "outputs": [
    {
     "name": "stdout",
     "output_type": "stream",
     "text": [
      "Area: 78.53981633974483 Circumference: 31.41592653589793\n"
     ]
    }
   ],
   "source": [
    "print(\"Area:\", area, \"Circumference:\", circumference)"
   ]
  },
  {
   "cell_type": "code",
   "execution_count": null,
   "id": "db6fa743",
   "metadata": {},
   "outputs": [],
   "source": [
    "# Завдання 2: \n",
    "1) імпортуємо тільки pi з модуля math;\n",
    "2) кожна функція відокремлена для поліпшення читабельності; \n",
    "3) додані відступи для тіла функцій; \n",
    "4) використовуємо snake_case для імен;\n",
    "5) зберігаємо результати викликів функцій у змінні area та circumference."
   ]
  },
  {
   "cell_type": "code",
   "execution_count": 18,
   "id": "4648e7a0",
   "metadata": {},
   "outputs": [
    {
     "name": "stdout",
     "output_type": "stream",
     "text": [
      "1\n",
      "2\n",
      "3\n",
      "4\n",
      "5\n"
     ]
    }
   ],
   "source": [
    "list=[1,2,3,4,5]\n",
    "for i in range(len(list)):print(list[i])"
   ]
  },
  {
   "cell_type": "code",
   "execution_count": 19,
   "id": "634088a8",
   "metadata": {},
   "outputs": [],
   "source": [
    "my_list = [1, 2, 3, 4, 5]"
   ]
  },
  {
   "cell_type": "code",
   "execution_count": 20,
   "id": "0fea59d4",
   "metadata": {},
   "outputs": [
    {
     "name": "stdout",
     "output_type": "stream",
     "text": [
      "1\n",
      "2\n",
      "3\n",
      "4\n",
      "5\n"
     ]
    }
   ],
   "source": [
    "for i in my_list:\n",
    "    print(i)"
   ]
  },
  {
   "cell_type": "code",
   "execution_count": null,
   "id": "3821265a",
   "metadata": {},
   "outputs": [],
   "source": [
    "# Завдання 4: \n",
    "1) замінили list на my_list;\n",
    "2) додані відступи для тіла циклу;\n",
    "3) використовуємо елементи списку у циклі for, замість range(len(list)"
   ]
  },
  {
   "cell_type": "code",
   "execution_count": 22,
   "id": "5a403d5a",
   "metadata": {},
   "outputs": [],
   "source": [
    "# Завдання № 5 \n",
    "import pandas as pd\n",
    "\n",
    "df = pd.DataFrame({\n",
    "    'student': ['Alice', 'Bob', 'Charlie', 'David'],\n",
    "    'math_score': [89, 94, 77, 85],\n",
    "    'english_score': [92, 88, 79, 85],\n",
    "    'history_score': [84, 92, 81, 89]\n",
    "})"
   ]
  },
  {
   "cell_type": "code",
   "execution_count": 26,
   "id": "9eb3a8cd",
   "metadata": {},
   "outputs": [],
   "source": [
    "averages = []\n",
    "for _, row in df.iterrows():\n",
    "    averages.append((row['math_score'] + row['english_score'] + row['history_score']) / 3)\n",
    "df['average_score'] = averages    "
   ]
  },
  {
   "cell_type": "code",
   "execution_count": 32,
   "id": "0e23f8b1",
   "metadata": {},
   "outputs": [],
   "source": [
    "import pandas as pd"
   ]
  },
  {
   "cell_type": "code",
   "execution_count": 33,
   "id": "f282d24f",
   "metadata": {},
   "outputs": [],
   "source": [
    "df = pd.DataFrame({\n",
    "    'student': ['Alice', 'Bob', 'Charlie', 'David'],\n",
    "    'math_score': [89, 94, 77, 85],\n",
    "    'english_score': [92, 88, 79, 85],\n",
    "    'history_score': [84, 92, 81, 89]\n",
    "})"
   ]
  },
  {
   "cell_type": "code",
   "execution_count": 34,
   "id": "0d475355",
   "metadata": {},
   "outputs": [],
   "source": [
    "df['average_score'] = df[['math_score', 'english_score', 'history_score']].mean(axis=1)"
   ]
  },
  {
   "cell_type": "code",
   "execution_count": 31,
   "id": "5a891017",
   "metadata": {},
   "outputs": [
    {
     "name": "stdout",
     "output_type": "stream",
     "text": [
      "   student  math_score  english_score  history_score  average_score\n",
      "0    Alice          89             92             84      88.333333\n",
      "1      Bob          94             88             92      91.333333\n",
      "2  Charlie          77             79             81      79.000000\n",
      "3    David          85             85             89      86.333333\n"
     ]
    }
   ],
   "source": [
    "print(df)"
   ]
  },
  {
   "cell_type": "code",
   "execution_count": 35,
   "id": "fd0ec8b2",
   "metadata": {},
   "outputs": [],
   "source": [
    "# Завдання № 6.\n",
    "import pandas as pd\n",
    "import numpy as np\n",
    "\n",
    "np.random.seed(0)\n",
    "\n",
    "products = ['apple', 'banana', 'cherry', 'dates', 'elderberry']\n",
    "categories = ['fruit', 'fruit', 'fruit', 'fruit', 'fruit']\n",
    "\n",
    "N_ROWS = 10**6\n",
    "df = pd.DataFrame({\n",
    "    'product_name': np.random.choice(products, N_ROWS),\n",
    "    'product_category': np.random.choice(categories, N_ROWS),\n",
    "    'product_price': np.random.uniform(1, 10, N_ROWS),\n",
    "    'transaction_date': pd.date_range(start='1/1/2000', periods=N_ROWS, freq='h')\n",
    "})"
   ]
  },
  {
   "cell_type": "code",
   "execution_count": 36,
   "id": "8495c63b",
   "metadata": {},
   "outputs": [],
   "source": [
    "import pandas as pd\n",
    "import numpy as np"
   ]
  },
  {
   "cell_type": "code",
   "execution_count": 37,
   "id": "a385a097",
   "metadata": {},
   "outputs": [],
   "source": [
    "np.random.seed(0)"
   ]
  },
  {
   "cell_type": "code",
   "execution_count": 38,
   "id": "84ed8c7d",
   "metadata": {},
   "outputs": [],
   "source": [
    "products = ['apple', 'banana', 'cherry', 'dates', 'elderberry']\n",
    "categories = ['fruit', 'fruit', 'fruit', 'fruit', 'fruit']"
   ]
  },
  {
   "cell_type": "code",
   "execution_count": 39,
   "id": "bb12b187",
   "metadata": {},
   "outputs": [],
   "source": [
    "N_ROWS = 10**6\n",
    "df = pd.DataFrame({\n",
    "    'product_name': np.random.choice(products, N_ROWS),\n",
    "    'product_category': np.random.choice(categories, N_ROWS),\n",
    "    'product_price': np.random.uniform(1, 10, N_ROWS),\n",
    "    'transaction_date': pd.date_range(start='1/1/2000', periods=N_ROWS, freq='h')\n",
    "})"
   ]
  },
  {
   "cell_type": "code",
   "execution_count": 40,
   "id": "fb6ab7df",
   "metadata": {},
   "outputs": [],
   "source": [
    "memory_before = df.memory_usage(deep=True).sum() / 1024**2"
   ]
  },
  {
   "cell_type": "code",
   "execution_count": 41,
   "id": "584adf4c",
   "metadata": {},
   "outputs": [
    {
     "name": "stdout",
     "output_type": "stream",
     "text": [
      "1.86 ms ± 1.1 ms per loop (mean ± std. dev. of 7 runs, 1 loop each)\n"
     ]
    }
   ],
   "source": [
    "%%timeit\n",
    "df['product_name'] = df['product_name'].astype('category')\n",
    "df['product_category'] = df['product_category'].astype('category')\n"
   ]
  },
  {
   "cell_type": "code",
   "execution_count": 42,
   "id": "9a6a5ad4",
   "metadata": {},
   "outputs": [],
   "source": [
    "memory_after = df.memory_usage(deep=True).sum() / 1024**2"
   ]
  },
  {
   "cell_type": "code",
   "execution_count": 43,
   "id": "c170efe5",
   "metadata": {},
   "outputs": [],
   "source": [
    "memory_reduction_factor = memory_before / memory_after"
   ]
  },
  {
   "cell_type": "code",
   "execution_count": 44,
   "id": "91132a07",
   "metadata": {},
   "outputs": [
    {
     "name": "stdout",
     "output_type": "stream",
     "text": [
      "Використання пам'яті до перетворення: 134.85 MB\n",
      "Використання пам'яті після перетворення: 17.17 MB\n",
      "Зменшення використання пам'яті в 7.86 рази\n"
     ]
    }
   ],
   "source": [
    "print(f\"Використання пам'яті до перетворення: {memory_before:.2f} MB\")\n",
    "print(f\"Використання пам'яті після перетворення: {memory_after:.2f} MB\")\n",
    "print(f\"Зменшення використання пам'яті в {memory_reduction_factor:.2f} рази\")"
   ]
  },
  {
   "cell_type": "code",
   "execution_count": 45,
   "id": "29269746",
   "metadata": {},
   "outputs": [],
   "source": [
    "# Завдання 7.\n",
    "import pandas as pd\n",
    "import sweetviz as sv\n",
    "import warnings"
   ]
  },
  {
   "cell_type": "code",
   "execution_count": 46,
   "id": "963ad751",
   "metadata": {},
   "outputs": [],
   "source": [
    "df = pd.read_csv('/Users/applebuy/Downloads/ecommerce_data.csv', encoding='ISO-8859-1')"
   ]
  },
  {
   "cell_type": "code",
   "execution_count": 47,
   "id": "94ec1660",
   "metadata": {},
   "outputs": [],
   "source": [
    "df['CustomerID'] = df['CustomerID'].fillna(-1).astype(str)"
   ]
  },
  {
   "cell_type": "code",
   "execution_count": 48,
   "id": "5ef84167",
   "metadata": {},
   "outputs": [
    {
     "data": {
      "application/vnd.jupyter.widget-view+json": {
       "model_id": "f6b2932106354e65907200218ef521ed",
       "version_major": 2,
       "version_minor": 0
      },
      "text/plain": [
       "                                             |      | [  0%]   00:00 -> (? left)"
      ]
     },
     "metadata": {},
     "output_type": "display_data"
    },
    {
     "name": "stdout",
     "output_type": "stream",
     "text": [
      "Report ecommerce_comparison_report.html was generated! NOTEBOOK/COLAB USERS: the web browser MAY not pop up, regardless, the report IS saved in your notebook/colab files.\n"
     ]
    }
   ],
   "source": [
    "with warnings.catch_warnings(record=True):\n",
    "    report = sv.compare([df[df['Country'] == 'Germany'], \"Germany\"],\n",
    "                        [df[df['Country'] == 'France'], \"France\"])\n",
    "    report.show_html('ecommerce_comparison_report.html')"
   ]
  },
  {
   "cell_type": "code",
   "execution_count": null,
   "id": "3660b473",
   "metadata": {},
   "outputs": [],
   "source": [
    "file:///Users/applebuy/ecommerce_comparison_report.html"
   ]
  }
 ],
 "metadata": {
  "kernelspec": {
   "display_name": "Python 3 (ipykernel)",
   "language": "python",
   "name": "python3"
  },
  "language_info": {
   "codemirror_mode": {
    "name": "ipython",
    "version": 3
   },
   "file_extension": ".py",
   "mimetype": "text/x-python",
   "name": "python",
   "nbconvert_exporter": "python",
   "pygments_lexer": "ipython3",
   "version": "3.11.5"
  }
 },
 "nbformat": 4,
 "nbformat_minor": 5
}
