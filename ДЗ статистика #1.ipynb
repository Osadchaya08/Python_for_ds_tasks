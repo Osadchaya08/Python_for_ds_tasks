{
 "cells": [
  {
   "cell_type": "code",
   "execution_count": 3,
   "id": "ce5def62",
   "metadata": {},
   "outputs": [],
   "source": [
    "import numpy as np"
   ]
  },
  {
   "cell_type": "code",
   "execution_count": 4,
   "id": "332240de",
   "metadata": {},
   "outputs": [],
   "source": [
    "# завдання № 1 \n",
    "data = [1,3,4]\n",
    "sum_x = np.sum(data)"
   ]
  },
  {
   "cell_type": "code",
   "execution_count": 5,
   "id": "dac0f27e",
   "metadata": {},
   "outputs": [
    {
     "data": {
      "text/plain": [
       "8"
      ]
     },
     "execution_count": 5,
     "metadata": {},
     "output_type": "execute_result"
    }
   ],
   "source": [
    "sum_x"
   ]
  },
  {
   "cell_type": "code",
   "execution_count": 6,
   "id": "178ec195",
   "metadata": {},
   "outputs": [],
   "source": [
    "# завдання № 2\n",
    "sum_purchases = [ 316,  493,  367,  153,  224,  121,  322,  450,  196,  397,  281,\n",
    "  239,  484,  124,  223,  448,  432,  255, 4310, 3524]"
   ]
  },
  {
   "cell_type": "code",
   "execution_count": 7,
   "id": "5003976d",
   "metadata": {},
   "outputs": [],
   "source": [
    "mean_sum_purchases = sum(sum_purchases)/len(sum_purchases)"
   ]
  },
  {
   "cell_type": "code",
   "execution_count": 8,
   "id": "1be25717",
   "metadata": {},
   "outputs": [
    {
     "data": {
      "text/plain": [
       "667.95"
      ]
     },
     "execution_count": 8,
     "metadata": {},
     "output_type": "execute_result"
    }
   ],
   "source": [
    "mean_sum_purchases"
   ]
  },
  {
   "cell_type": "code",
   "execution_count": 9,
   "id": "93bca0bc",
   "metadata": {},
   "outputs": [
    {
     "data": {
      "text/plain": [
       "667.95"
      ]
     },
     "execution_count": 9,
     "metadata": {},
     "output_type": "execute_result"
    }
   ],
   "source": [
    "np.mean(mean_sum_purchases)"
   ]
  },
  {
   "cell_type": "code",
   "execution_count": 10,
   "id": "3a4d5fce",
   "metadata": {},
   "outputs": [],
   "source": [
    "# завдання № 3\n",
    "sum_purchases = [ 316,  493,  367,  153,  224,  121,  322,  450,  196,  397,  281,\n",
    "  239,  484,  124,  223,  448,  432,  255, 4310, 3524]"
   ]
  },
  {
   "cell_type": "code",
   "execution_count": 15,
   "id": "2d0752f2",
   "metadata": {},
   "outputs": [
    {
     "data": {
      "text/plain": [
       "[121,\n",
       " 124,\n",
       " 153,\n",
       " 196,\n",
       " 223,\n",
       " 224,\n",
       " 239,\n",
       " 255,\n",
       " 281,\n",
       " 316,\n",
       " 322,\n",
       " 367,\n",
       " 397,\n",
       " 432,\n",
       " 448,\n",
       " 450,\n",
       " 484,\n",
       " 493,\n",
       " 3524,\n",
       " 4310]"
      ]
     },
     "execution_count": 15,
     "metadata": {},
     "output_type": "execute_result"
    }
   ],
   "source": [
    "sorted(sum_purchases)"
   ]
  },
  {
   "cell_type": "code",
   "execution_count": 16,
   "id": "dabddaa1",
   "metadata": {},
   "outputs": [
    {
     "data": {
      "text/plain": [
       "(9, 10)"
      ]
     },
     "execution_count": 16,
     "metadata": {},
     "output_type": "execute_result"
    }
   ],
   "source": [
    "len(sum_purchases)//2 - 1, len(sum_purchases)//2"
   ]
  },
  {
   "cell_type": "code",
   "execution_count": 17,
   "id": "d1d4824a",
   "metadata": {},
   "outputs": [
    {
     "data": {
      "text/plain": [
       "477.0"
      ]
     },
     "execution_count": 17,
     "metadata": {},
     "output_type": "execute_result"
    }
   ],
   "source": [
    "sorted(sum_purchases)[len(sum_purchases)//2 - 1] + sorted(sum_purchases)[len(sum_purchases)//2]/2"
   ]
  },
  {
   "cell_type": "code",
   "execution_count": 18,
   "id": "d5f6cb88",
   "metadata": {},
   "outputs": [
    {
     "data": {
      "text/plain": [
       "319.0"
      ]
     },
     "execution_count": 18,
     "metadata": {},
     "output_type": "execute_result"
    }
   ],
   "source": [
    "np.median(sum_purchases)"
   ]
  },
  {
   "cell_type": "code",
   "execution_count": 19,
   "id": "36e604f5",
   "metadata": {},
   "outputs": [],
   "source": [
    "# завдання № 4\n",
    "sum_purchases_minus_mean=[(el -mean_sum_purchases)**2 for el in sum_purchases]\n",
    "std_sum_purchases_general = np.sqrt(sum(sum_purchases_minus_mean)/len(sum_purchases))\n",
    "std_sum_purchases_sample = np.sqrt(sum(sum_purchases_minus_mean)/(len(sum_purchases)-1))"
   ]
  },
  {
   "cell_type": "code",
   "execution_count": 20,
   "id": "04aaf580",
   "metadata": {},
   "outputs": [
    {
     "data": {
      "text/plain": [
       "(1096.0692713054227, 1124.5433447451132)"
      ]
     },
     "execution_count": 20,
     "metadata": {},
     "output_type": "execute_result"
    }
   ],
   "source": [
    "std_sum_purchases_general, std_sum_purchases_sample"
   ]
  },
  {
   "cell_type": "code",
   "execution_count": 21,
   "id": "7ebcd042",
   "metadata": {},
   "outputs": [
    {
     "data": {
      "text/plain": [
       "(1096.0692713054227, 1124.5433447451132)"
      ]
     },
     "execution_count": 21,
     "metadata": {},
     "output_type": "execute_result"
    }
   ],
   "source": [
    "np.std(sum_purchases), np.std(sum_purchases, ddof=1)"
   ]
  },
  {
   "cell_type": "code",
   "execution_count": 25,
   "id": "03929b35",
   "metadata": {},
   "outputs": [],
   "source": [
    "# завдання № 5 \n",
    "age_counts = {\n",
    "    16: 10,\n",
    "    17: 25,\n",
    "    18: 20,\n",
    "    20: 2\n",
    "}"
   ]
  },
  {
   "cell_type": "code",
   "execution_count": null,
   "id": "1d100f5f",
   "metadata": {},
   "outputs": [],
   "source": []
  },
  {
   "cell_type": "code",
   "execution_count": 34,
   "id": "99648b50",
   "metadata": {},
   "outputs": [],
   "source": [
    "# завдання № 6\n",
    "sum_purchases = [ 316,  493,  367,  153,  224,  121,  322,  450,  196,  397,  281,\n",
    "  239,  484,  124,  223,  448,  432,  255, 4310, 3524]"
   ]
  },
  {
   "cell_type": "code",
   "execution_count": 35,
   "id": "aaf3b611",
   "metadata": {},
   "outputs": [],
   "source": [
    "visits = [ 6,  2, 10,  3,  9,  9,  2,  3,  6,  6, 10,  2,  5, 10,  3,  5,  4,\n",
    "        7,  4,  2]"
   ]
  },
  {
   "cell_type": "code",
   "execution_count": 39,
   "id": "43f65f57",
   "metadata": {},
   "outputs": [],
   "source": [
    "mean_sum_purchases = sum(sum_purchases) / len(sum_purchases)\n",
    "mean_visits = sum(visits) / len(visits)"
   ]
  },
  {
   "cell_type": "code",
   "execution_count": 40,
   "id": "44fadcce",
   "metadata": {},
   "outputs": [
    {
     "data": {
      "text/plain": [
       "(667.95, 5.4)"
      ]
     },
     "execution_count": 40,
     "metadata": {},
     "output_type": "execute_result"
    }
   ],
   "source": [
    "mean_sum_purchases, mean_visits"
   ]
  },
  {
   "cell_type": "code",
   "execution_count": 42,
   "id": "b1e514e2",
   "metadata": {},
   "outputs": [],
   "source": [
    "sum_purchases_visits = [(sum_purchases[i] - mean_sum_purchases)*(visits[i] - mean_visits) for i in range(len(sum_purchases))]"
   ]
  },
  {
   "cell_type": "code",
   "execution_count": 43,
   "id": "9d1a96aa",
   "metadata": {},
   "outputs": [],
   "source": [
    "cov_sum_purchases_visits = sum(sum_purchases_visits)/(len(sum_purchases)-1)"
   ]
  },
  {
   "cell_type": "code",
   "execution_count": 44,
   "id": "729cfb09",
   "metadata": {},
   "outputs": [
    {
     "data": {
      "text/plain": [
       "-990.1368421052633"
      ]
     },
     "execution_count": 44,
     "metadata": {},
     "output_type": "execute_result"
    }
   ],
   "source": [
    "cov_sum_purchases_visits"
   ]
  },
  {
   "cell_type": "code",
   "execution_count": 45,
   "id": "233654eb",
   "metadata": {},
   "outputs": [
    {
     "data": {
      "text/plain": [
       "array([[ 1.26459773e+06, -9.90136842e+02],\n",
       "       [-9.90136842e+02,  8.46315789e+00]])"
      ]
     },
     "execution_count": 45,
     "metadata": {},
     "output_type": "execute_result"
    }
   ],
   "source": [
    "np.cov(sum_purchases,visits)"
   ]
  },
  {
   "cell_type": "code",
   "execution_count": 18,
   "id": "04a7c543",
   "metadata": {},
   "outputs": [],
   "source": [
    "# Домашнє завдання 6: Статистичні тести, завдання не змогла вирішити \n",
    "import pandas as pd\n",
    "import numpy as np\n",
    "from scipy import stats"
   ]
  },
  {
   "cell_type": "code",
   "execution_count": 19,
   "id": "fcd0b15c",
   "metadata": {},
   "outputs": [],
   "source": [
    "data = pd.read_csv('/Users/applebuy/Documents/data/supermarket_sales.csv')"
   ]
  },
  {
   "cell_type": "code",
   "execution_count": 20,
   "id": "2a6e6216",
   "metadata": {},
   "outputs": [
    {
     "data": {
      "text/plain": [
       "(1000, 17)"
      ]
     },
     "execution_count": 20,
     "metadata": {},
     "output_type": "execute_result"
    }
   ],
   "source": [
    "data.shape"
   ]
  },
  {
   "cell_type": "code",
   "execution_count": 16,
   "id": "97ae8b70",
   "metadata": {},
   "outputs": [
    {
     "name": "stdout",
     "output_type": "stream",
     "text": [
      "    Invoice ID Branch       City Customer type  Gender  \\\n",
      "0  750-67-8428      A     Yangon        Member  Female   \n",
      "1  226-31-3081      C  Naypyitaw        Normal  Female   \n",
      "2  631-41-3108      A     Yangon        Normal    Male   \n",
      "3  123-19-1176      A     Yangon        Member    Male   \n",
      "4  373-73-7910      A     Yangon        Normal    Male   \n",
      "\n",
      "             Product line  Unit price  Quantity   Tax 5%     Total       Date  \\\n",
      "0       Health and beauty       74.69         7  26.1415  548.9715   1/5/2019   \n",
      "1  Electronic accessories       15.28         5   3.8200   80.2200   3/8/2019   \n",
      "2      Home and lifestyle       46.33         7  16.2155  340.5255   3/3/2019   \n",
      "3       Health and beauty       58.22         8  23.2880  489.0480  1/27/2019   \n",
      "4       Sports and travel       86.31         7  30.2085  634.3785   2/8/2019   \n",
      "\n",
      "    Time      Payment    cogs  gross margin percentage  gross income  Rating  \n",
      "0  13:08      Ewallet  522.83                 4.761905       26.1415     9.1  \n",
      "1  10:29         Cash   76.40                 4.761905        3.8200     9.6  \n",
      "2  13:23  Credit card  324.31                 4.761905       16.2155     7.4  \n",
      "3  20:33      Ewallet  465.76                 4.761905       23.2880     8.4  \n",
      "4  10:37      Ewallet  604.17                 4.761905       30.2085     5.3  \n"
     ]
    }
   ],
   "source": [
    "print(data.head())"
   ]
  },
  {
   "cell_type": "code",
   "execution_count": 17,
   "id": "3832c266",
   "metadata": {},
   "outputs": [],
   "source": [
    "historical_mean = 20"
   ]
  },
  {
   "cell_type": "code",
   "execution_count": null,
   "id": "efc98fbc",
   "metadata": {
    "scrolled": true
   },
   "outputs": [],
   "source": []
  },
  {
   "cell_type": "code",
   "execution_count": null,
   "id": "5d1b3738",
   "metadata": {},
   "outputs": [],
   "source": []
  }
 ],
 "metadata": {
  "kernelspec": {
   "display_name": "Python 3 (ipykernel)",
   "language": "python",
   "name": "python3"
  },
  "language_info": {
   "codemirror_mode": {
    "name": "ipython",
    "version": 3
   },
   "file_extension": ".py",
   "mimetype": "text/x-python",
   "name": "python",
   "nbconvert_exporter": "python",
   "pygments_lexer": "ipython3",
   "version": "3.11.5"
  }
 },
 "nbformat": 4,
 "nbformat_minor": 5
}
