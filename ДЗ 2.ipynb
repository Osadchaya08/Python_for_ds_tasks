{
 "cells": [
  {
   "cell_type": "code",
   "execution_count": 1,
   "id": "d027ebf8",
   "metadata": {},
   "outputs": [],
   "source": [
    "numbers = [ 1, 2, 3, 4, 5, 6, 7, 8, 9,10]"
   ]
  },
  {
   "cell_type": "code",
   "execution_count": 2,
   "id": "ccff8841",
   "metadata": {},
   "outputs": [],
   "source": [
    "numbers = [42, 51, 29, 2, 13, 44, 80, 66, 16]"
   ]
  },
  {
   "cell_type": "code",
   "execution_count": 3,
   "id": "eba784ee",
   "metadata": {},
   "outputs": [
    {
     "name": "stdout",
     "output_type": "stream",
     "text": [
      "42\n",
      "51\n",
      "29\n",
      "2\n",
      "13\n",
      "44\n",
      "80\n",
      "66\n",
      "16\n"
     ]
    }
   ],
   "source": [
    "numbers = [42, 51, 29, 2, 13, 44, 80, 66, 16]\n",
    "for current_number in numbers:\n",
    "    print(current_number)"
   ]
  },
  {
   "cell_type": "code",
   "execution_count": 11,
   "id": "e1b8870b",
   "metadata": {},
   "outputs": [
    {
     "name": "stdout",
     "output_type": "stream",
     "text": [
      "Number: 42, Doubled: 84.\n",
      "Number: 51, Doubled: 102.\n",
      "Number: 29, Doubled: 58.\n",
      "Number: 2, Doubled: 4.\n",
      "Number: 13, Doubled: 26.\n",
      "Number: 44, Doubled: 88.\n",
      "Number: 80, Doubled: 160.\n",
      "Number: 66, Doubled: 132.\n",
      "Number: 16, Doubled: 32.\n"
     ]
    }
   ],
   "source": [
    "numbers = [42, 51, 29, 2, 13, 44, 80, 66, 16]\n",
    "for current_number in numbers:\n",
    "   print(f\"Number: {current_number}, Doubled: {current_number * 2}.\")"
   ]
  },
  {
   "cell_type": "code",
   "execution_count": 46,
   "id": "7a1466ef",
   "metadata": {},
   "outputs": [],
   "source": [
    "new_list = [num*2 for num in numbers]"
   ]
  },
  {
   "cell_type": "code",
   "execution_count": 47,
   "id": "8be2124e",
   "metadata": {},
   "outputs": [
    {
     "name": "stdout",
     "output_type": "stream",
     "text": [
      "[84, 102, 58, 4, 26, 88, 160, 132, 32]\n"
     ]
    }
   ],
   "source": [
    "print (new_list)"
   ]
  },
  {
   "cell_type": "code",
   "execution_count": 48,
   "id": "e9b1982d",
   "metadata": {},
   "outputs": [],
   "source": [
    "list1 = [1, 2, 3, 4, 5]\n",
    "list2 = [1, 0, 3, 4, 6]"
   ]
  },
  {
   "cell_type": "code",
   "execution_count": 57,
   "id": "610151b5",
   "metadata": {},
   "outputs": [],
   "source": [
    "a = [1, 2, 3, 6]\n",
    "b = [1, 7, 3, 6]"
   ]
  },
  {
   "cell_type": "code",
   "execution_count": 54,
   "id": "97ddc683",
   "metadata": {},
   "outputs": [],
   "source": [
    "result=list(set(a) & set(b))"
   ]
  },
  {
   "cell_type": "code",
   "execution_count": 55,
   "id": "b8a18912",
   "metadata": {},
   "outputs": [
    {
     "data": {
      "text/plain": [
       "[1, 3, 6]"
      ]
     },
     "execution_count": 55,
     "metadata": {},
     "output_type": "execute_result"
    }
   ],
   "source": [
    "result"
   ]
  },
  {
   "cell_type": "code",
   "execution_count": 60,
   "id": "af149b9a",
   "metadata": {},
   "outputs": [],
   "source": [
    "a = [1, 2, 3, 6]\n",
    "b = [1, 7, 3, 6]"
   ]
  },
  {
   "cell_type": "code",
   "execution_count": 69,
   "id": "fa1a90d3",
   "metadata": {},
   "outputs": [],
   "source": [
    "result = [x == y\n",
    "for x, y in zip(a, b)]"
   ]
  },
  {
   "cell_type": "code",
   "execution_count": 70,
   "id": "4051e185",
   "metadata": {},
   "outputs": [
    {
     "name": "stdout",
     "output_type": "stream",
     "text": [
      "[True, False, True, True]\n"
     ]
    }
   ],
   "source": [
    "print(result)"
   ]
  },
  {
   "cell_type": "code",
   "execution_count": 71,
   "id": "9627eee1",
   "metadata": {},
   "outputs": [],
   "source": [
    "numbers = [64, 93, 60, 95, 66, 9, 15, 55, 77, 28, 74, 100, 13, 1, 85, 48, 66, 65, 59, 32]"
   ]
  },
  {
   "cell_type": "code",
   "execution_count": 74,
   "id": "8b6b5222",
   "metadata": {},
   "outputs": [],
   "source": [
    "sum_of_numbers = sum(numbers)"
   ]
  },
  {
   "cell_type": "code",
   "execution_count": 75,
   "id": "24ddd699",
   "metadata": {},
   "outputs": [
    {
     "name": "stdout",
     "output_type": "stream",
     "text": [
      "The sum of the numbers is: 1105\n"
     ]
    }
   ],
   "source": [
    "print(\"The sum of the numbers is:\", sum_of_numbers)"
   ]
  },
  {
   "cell_type": "code",
   "execution_count": 76,
   "id": "9a81f529",
   "metadata": {},
   "outputs": [],
   "source": [
    "numbers = [64, 93, 60, 95, 66, 9, 15, 55, 77, 28, 74, 100, 13, 1, 85, 48, 66, 65, 59, 32]"
   ]
  },
  {
   "cell_type": "code",
   "execution_count": 5,
   "id": "34119de1",
   "metadata": {},
   "outputs": [
    {
     "ename": "NameError",
     "evalue": "name 'numbers_mean' is not defined",
     "output_type": "error",
     "traceback": [
      "\u001b[0;31m---------------------------------------------------------------------------\u001b[0m",
      "\u001b[0;31mNameError\u001b[0m                                 Traceback (most recent call last)",
      "Cell \u001b[0;32mIn[5], line 1\u001b[0m\n\u001b[0;32m----> 1\u001b[0m rounded_numbers_mean \u001b[38;5;241m=\u001b[39m \u001b[38;5;28mround\u001b[39m(numbers_mean, \u001b[38;5;241m2\u001b[39m)\n",
      "\u001b[0;31mNameError\u001b[0m: name 'numbers_mean' is not defined"
     ]
    }
   ],
   "source": [
    "rounded_numbers_mean = round(numbers_mean, 2)"
   ]
  },
  {
   "cell_type": "code",
   "execution_count": 81,
   "id": "503d3c7e",
   "metadata": {},
   "outputs": [
    {
     "data": {
      "text/plain": [
       "{0: '6',\n",
       " 1: '4',\n",
       " 2: ',',\n",
       " 3: ' ',\n",
       " 4: '9',\n",
       " 5: '3',\n",
       " 6: ',',\n",
       " 7: ' ',\n",
       " 8: '6',\n",
       " 9: '0',\n",
       " 10: ',',\n",
       " 11: ' ',\n",
       " 12: '9',\n",
       " 13: '5',\n",
       " 14: ',',\n",
       " 15: ' ',\n",
       " 16: '6',\n",
       " 17: '6',\n",
       " 18: ',',\n",
       " 19: ' ',\n",
       " 20: '9',\n",
       " 21: ',',\n",
       " 22: ' ',\n",
       " 23: '1',\n",
       " 24: '5',\n",
       " 25: ',',\n",
       " 26: ' ',\n",
       " 27: '5',\n",
       " 28: '5',\n",
       " 29: ',',\n",
       " 30: ' ',\n",
       " 31: '7',\n",
       " 32: '7',\n",
       " 33: ',',\n",
       " 34: ' ',\n",
       " 35: '2',\n",
       " 36: '8',\n",
       " 37: ',',\n",
       " 38: ' ',\n",
       " 39: '7',\n",
       " 40: '4',\n",
       " 41: ',',\n",
       " 42: ' ',\n",
       " 43: '1',\n",
       " 44: '0',\n",
       " 45: '0',\n",
       " 46: ',',\n",
       " 47: ' ',\n",
       " 48: '1',\n",
       " 49: '3',\n",
       " 50: ',',\n",
       " 51: ' ',\n",
       " 52: '1',\n",
       " 53: ',',\n",
       " 54: ' ',\n",
       " 55: '8',\n",
       " 56: '5',\n",
       " 57: ',',\n",
       " 58: ' ',\n",
       " 59: '4',\n",
       " 60: '8',\n",
       " 61: ',',\n",
       " 62: ' ',\n",
       " 63: '6',\n",
       " 64: '6',\n",
       " 65: ',',\n",
       " 66: ' ',\n",
       " 67: '6',\n",
       " 68: '5',\n",
       " 69: ',',\n",
       " 70: ' ',\n",
       " 71: '5',\n",
       " 72: '9',\n",
       " 73: ',',\n",
       " 74: ' ',\n",
       " 75: '3',\n",
       " 76: '2'}"
      ]
     },
     "execution_count": 81,
     "metadata": {},
     "output_type": "execute_result"
    }
   ],
   "source": [
    "my_str = \"64, 93, 60, 95, 66, 9, 15, 55, 77, 28, 74, 100, 13, 1, 85, 48, 66, 65, 59, 32\"\n",
    "my_dict = {i: char for i, char in enumerate(my_str)}\n",
    "my_dict"
   ]
  },
  {
   "cell_type": "code",
   "execution_count": null,
   "id": "a40cafd0",
   "metadata": {},
   "outputs": [],
   "source": [
    "numbers_mean = (sum_of_numbers / 79)"
   ]
  },
  {
   "cell_type": "code",
   "execution_count": 87,
   "id": "105dcd80",
   "metadata": {},
   "outputs": [
    {
     "data": {
      "text/plain": [
       "13.987341772151899"
      ]
     },
     "execution_count": 87,
     "metadata": {},
     "output_type": "execute_result"
    }
   ],
   "source": [
    "numbers_mean"
   ]
  },
  {
   "cell_type": "code",
   "execution_count": 91,
   "id": "46e155f1",
   "metadata": {},
   "outputs": [],
   "source": [
    "numbers_mean = 13.987341772151899"
   ]
  },
  {
   "cell_type": "code",
   "execution_count": 4,
   "id": "2680c6c0",
   "metadata": {},
   "outputs": [
    {
     "ename": "SyntaxError",
     "evalue": "invalid syntax. Perhaps you forgot a comma? (1842005058.py, line 4)",
     "output_type": "error",
     "traceback": [
      "\u001b[0;36m  Cell \u001b[0;32mIn[4], line 4\u001b[0;36m\u001b[0m\n\u001b[0;31m    new_list.append(new 1)\u001b[0m\n\u001b[0m                    ^\u001b[0m\n\u001b[0;31mSyntaxError\u001b[0m\u001b[0;31m:\u001b[0m invalid syntax. Perhaps you forgot a comma?\n"
     ]
    }
   ],
   "source": []
  },
  {
   "cell_type": "code",
   "execution_count": 96,
   "id": "e120195c",
   "metadata": {},
   "outputs": [
    {
     "name": "stdout",
     "output_type": "stream",
     "text": [
      "Округлене число до 2 цифр після коми: 13.99\n"
     ]
    }
   ],
   "source": [
    "print(\"Округлене число до 2 цифр після коми:\", rounded_numbers_mean)"
   ]
  },
  {
   "cell_type": "code",
   "execution_count": 13,
   "id": "7b6f8cf4",
   "metadata": {},
   "outputs": [],
   "source": [
    "prev_list = [1, 5, 8, 38, 87, 90, 101]\n",
    "numbers_mean = 13.99"
   ]
  },
  {
   "cell_type": "code",
   "execution_count": 18,
   "id": "68bc20ae",
   "metadata": {},
   "outputs": [],
   "source": [
    "prev_list = [1, 5, 8, 38, 87, 90, 101]\n",
    "numbers_mean = 13.99\n",
    "new_list = []\n",
    "for el in prev_list:\n",
    "    if el >= numbers_mean:\n",
    "        new_list.append(1)\n",
    "    else:\n",
    "        new_list.append(0)"
   ]
  },
  {
   "cell_type": "code",
   "execution_count": 19,
   "id": "cb8167a0",
   "metadata": {},
   "outputs": [
    {
     "name": "stdout",
     "output_type": "stream",
     "text": [
      "[0, 0, 0, 1, 1, 1, 1]\n"
     ]
    }
   ],
   "source": [
    "print(new_list)"
   ]
  },
  {
   "cell_type": "code",
   "execution_count": 21,
   "id": "2e8925d5",
   "metadata": {},
   "outputs": [],
   "source": [
    "prev_list = [1, 5, 8, 38, 87, 90, 101]\n",
    "numbers_mean = 13.99\n"
   ]
  },
  {
   "cell_type": "code",
   "execution_count": 22,
   "id": "b30f12b8",
   "metadata": {},
   "outputs": [],
   "source": [
    "new_list = [1 if el > numbers_mean else 0 for el in prev_list]"
   ]
  },
  {
   "cell_type": "code",
   "execution_count": 23,
   "id": "74cc2f23",
   "metadata": {},
   "outputs": [
    {
     "name": "stdout",
     "output_type": "stream",
     "text": [
      "[0, 0, 0, 1, 1, 1, 1]\n"
     ]
    }
   ],
   "source": [
    "print(new_list)"
   ]
  },
  {
   "cell_type": "code",
   "execution_count": 25,
   "id": "27e8ad25",
   "metadata": {},
   "outputs": [
    {
     "name": "stdout",
     "output_type": "stream",
     "text": [
      "Ні, нема\n"
     ]
    }
   ],
   "source": [
    "a = [64, 93, 60, 95, 66, 9, 15, 55, 77, 28, 74, 100, 13, 1, 85, 48, 66, 65, 59, 32]\n",
    "element = 33\n",
    "if element in a:\n",
    "    print(\"Так, є\")\n",
    "else:\n",
    "    print(\"Ні, нема\")"
   ]
  },
  {
   "cell_type": "code",
   "execution_count": 30,
   "id": "3ac46444",
   "metadata": {},
   "outputs": [
    {
     "name": "stdout",
     "output_type": "stream",
     "text": [
      "44: Ні, нема елемента <вставити значення елемента>\n",
      "66: Так, є елемент <вставити значення елемента>\n",
      "77: Так, є елемент <вставити значення елемента>\n",
      "100: Так, є елемент <вставити значення елемента>\n"
     ]
    }
   ],
   "source": [
    "a = [64, 93, 60, 95, 66, 9, 15, 55, 77, 28, 74, 100, 13, 1, 85, 48, 66, 65, 59, 32]\n",
    "elements = [44, 66, 77, 100]\n",
    "for element in elements:\n",
    "    if element in a:\n",
    "        print(f\"{element}: Так, є елемент <вставити значення елемента>\")\n",
    "    else:\n",
    "        print(f\"{element}: Ні, нема елемента <вставити значення елемента>\")"
   ]
  },
  {
   "cell_type": "code",
   "execution_count": 31,
   "id": "e156010d",
   "metadata": {},
   "outputs": [],
   "source": [
    "long = [75, 39, 95, 1, 91, 43, 97, 24, 86, 75, 92, 91, 15, 15, 75, 95, 54, 29, 55, 98]"
   ]
  },
  {
   "cell_type": "code",
   "execution_count": 32,
   "id": "24812175",
   "metadata": {},
   "outputs": [],
   "source": [
    "n_repeats = {} \n",
    "for element in set(long):\n",
    "    count = long.count(element)\n",
    "    n_repeats[element] = count "
   ]
  },
  {
   "cell_type": "code",
   "execution_count": 33,
   "id": "0eaf77fd",
   "metadata": {},
   "outputs": [
    {
     "name": "stdout",
     "output_type": "stream",
     "text": [
      "{1: 1, 97: 1, 98: 1, 39: 1, 75: 3, 43: 1, 15: 2, 55: 1, 86: 1, 54: 1, 24: 1, 91: 2, 92: 1, 29: 1, 95: 2}\n"
     ]
    }
   ],
   "source": [
    "print(n_repeats)"
   ]
  },
  {
   "cell_type": "code",
   "execution_count": 47,
   "id": "30a0b89f",
   "metadata": {},
   "outputs": [
    {
     "name": "stdout",
     "output_type": "stream",
     "text": [
      "1\n"
     ]
    }
   ],
   "source": [
    "long = [75, 39, 95, 1, 91, 43, 97, 24, 86, 75, 92, 91, 15, 15, 75, 95, 54, 29, 55, 98]\n",
    "print(min(long)) # Не змогла вивести 3 мінімальні"
   ]
  }
 ],
 "metadata": {
  "kernelspec": {
   "display_name": "Python 3 (ipykernel)",
   "language": "python",
   "name": "python3"
  },
  "language_info": {
   "codemirror_mode": {
    "name": "ipython",
    "version": 3
   },
   "file_extension": ".py",
   "mimetype": "text/x-python",
   "name": "python",
   "nbconvert_exporter": "python",
   "pygments_lexer": "ipython3",
   "version": "3.11.5"
  }
 },
 "nbformat": 4,
 "nbformat_minor": 5
}
