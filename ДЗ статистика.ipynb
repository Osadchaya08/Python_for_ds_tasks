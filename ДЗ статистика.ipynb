{
 "cells": [
  {
   "cell_type": "code",
   "execution_count": 1,
   "id": "6b1b9bae",
   "metadata": {},
   "outputs": [],
   "source": [
    "import numpy as np"
   ]
  },
  {
   "cell_type": "code",
   "execution_count": 2,
   "id": "7e0218b8",
   "metadata": {},
   "outputs": [],
   "source": [
    "# завдання № 1 \n",
    "data = [1,3,4]\n",
    "sum_x = np.sum(data)"
   ]
  },
  {
   "cell_type": "code",
   "execution_count": 3,
   "id": "0d1a8fb0",
   "metadata": {},
   "outputs": [
    {
     "data": {
      "text/plain": [
       "8"
      ]
     },
     "execution_count": 3,
     "metadata": {},
     "output_type": "execute_result"
    }
   ],
   "source": [
    "sum_x"
   ]
  },
  {
   "cell_type": "code",
   "execution_count": 4,
   "id": "2f2666ab",
   "metadata": {},
   "outputs": [],
   "source": [
    "# завдання № 2\n",
    "sum_purchases = [ 316,  493,  367,  153,  224,  121,  322,  450,  196,  397,  281,\n",
    "  239,  484,  124,  223,  448,  432,  255, 4310, 3524]"
   ]
  },
  {
   "cell_type": "code",
   "execution_count": 5,
   "id": "071acda2",
   "metadata": {},
   "outputs": [],
   "source": [
    "mean_sum_purchases = sum(sum_purchases)/len(sum_purchases)"
   ]
  },
  {
   "cell_type": "code",
   "execution_count": 6,
   "id": "c040ecb3",
   "metadata": {},
   "outputs": [
    {
     "data": {
      "text/plain": [
       "667.95"
      ]
     },
     "execution_count": 6,
     "metadata": {},
     "output_type": "execute_result"
    }
   ],
   "source": [
    "mean_sum_purchases"
   ]
  },
  {
   "cell_type": "code",
   "execution_count": 7,
   "id": "626d41b3",
   "metadata": {},
   "outputs": [
    {
     "data": {
      "text/plain": [
       "667.95"
      ]
     },
     "execution_count": 7,
     "metadata": {},
     "output_type": "execute_result"
    }
   ],
   "source": [
    "np.mean(mean_sum_purchases)"
   ]
  },
  {
   "cell_type": "code",
   "execution_count": 8,
   "id": "acc7251c",
   "metadata": {},
   "outputs": [],
   "source": [
    "# завдання № 3\n",
    "sum_purchases = [ 316,  493,  367,  153,  224,  121,  322,  450,  196,  397,  281,\n",
    "  239,  484,  124,  223,  448,  432,  255, 4310, 3524]"
   ]
  },
  {
   "cell_type": "code",
   "execution_count": 9,
   "id": "710cf76e",
   "metadata": {},
   "outputs": [
    {
     "data": {
      "text/plain": [
       "(9, 10)"
      ]
     },
     "execution_count": 9,
     "metadata": {},
     "output_type": "execute_result"
    }
   ],
   "source": [
    "len(sum_purchases)//2 - 1, len(sum_purchases)//2"
   ]
  },
  {
   "cell_type": "code",
   "execution_count": 10,
   "id": "de2f1515",
   "metadata": {},
   "outputs": [
    {
     "data": {
      "text/plain": [
       "477.0"
      ]
     },
     "execution_count": 10,
     "metadata": {},
     "output_type": "execute_result"
    }
   ],
   "source": [
    "sorted(sum_purchases)[len(sum_purchases)//2 - 1] + sorted(sum_purchases)[len(sum_purchases)//2]/2"
   ]
  },
  {
   "cell_type": "code",
   "execution_count": 11,
   "id": "cb44f322",
   "metadata": {},
   "outputs": [
    {
     "data": {
      "text/plain": [
       "319.0"
      ]
     },
     "execution_count": 11,
     "metadata": {},
     "output_type": "execute_result"
    }
   ],
   "source": [
    "np.median(sum_purchases)"
   ]
  },
  {
   "cell_type": "code",
   "execution_count": 12,
   "id": "eea66d01",
   "metadata": {},
   "outputs": [],
   "source": [
    "# завдання № 4\n",
    "sum_purchases_minus_mean=[(el -mean_sum_purchases)**2 for el in sum_purchases]\n",
    "std_sum_purchases_general = np.sqrt(sum(sum_purchases_minus_mean)/len(sum_purchases))\n",
    "std_sum_purchases_sample = np.sqrt(sum(sum_purchases_minus_mean)/(len(sum_purchases)-1))"
   ]
  },
  {
   "cell_type": "code",
   "execution_count": 13,
   "id": "512f7193",
   "metadata": {},
   "outputs": [
    {
     "data": {
      "text/plain": [
       "(1096.0692713054227, 1124.5433447451132)"
      ]
     },
     "execution_count": 13,
     "metadata": {},
     "output_type": "execute_result"
    }
   ],
   "source": [
    "std_sum_purchases_general, std_sum_purchases_sample"
   ]
  },
  {
   "cell_type": "code",
   "execution_count": 14,
   "id": "aecf182a",
   "metadata": {},
   "outputs": [
    {
     "data": {
      "text/plain": [
       "(1096.0692713054227, 1124.5433447451132)"
      ]
     },
     "execution_count": 14,
     "metadata": {},
     "output_type": "execute_result"
    }
   ],
   "source": [
    "np.std(sum_purchases), np.std(sum_purchases, ddof=1)"
   ]
  },
  {
   "cell_type": "code",
   "execution_count": 15,
   "id": "e613d55e",
   "metadata": {},
   "outputs": [],
   "source": [
    "# завдання № 5 \n",
    "age_counts = {\n",
    "    16: 10,\n",
    "    17: 25,\n",
    "    18: 20,\n",
    "    20: 2\n",
    "}"
   ]
  },
  {
   "cell_type": "code",
   "execution_count": 17,
   "id": "99f28c74",
   "metadata": {},
   "outputs": [],
   "source": [
    "# завдання № 6\n",
    "sum_purchases = [ 316,  493,  367,  153,  224,  121,  322,  450,  196,  397,  281,\n",
    "  239,  484,  124,  223,  448,  432,  255, 4310, 3524]"
   ]
  },
  {
   "cell_type": "code",
   "execution_count": 18,
   "id": "7a7c1dbb",
   "metadata": {},
   "outputs": [],
   "source": [
    "visits = [ 6,  2, 10,  3,  9,  9,  2,  3,  6,  6, 10,  2,  5, 10,  3,  5,  4,\n",
    "        7,  4,  2]"
   ]
  },
  {
   "cell_type": "code",
   "execution_count": 19,
   "id": "eee8b4e0",
   "metadata": {},
   "outputs": [],
   "source": [
    "mean_sum_purchases = sum(sum_purchases) / len(sum_purchases)\n",
    "mean_visits = sum(visits) / len(visits)"
   ]
  },
  {
   "cell_type": "code",
   "execution_count": 20,
   "id": "ed7372e2",
   "metadata": {},
   "outputs": [
    {
     "data": {
      "text/plain": [
       "(667.95, 5.4)"
      ]
     },
     "execution_count": 20,
     "metadata": {},
     "output_type": "execute_result"
    }
   ],
   "source": [
    "mean_sum_purchases, mean_visits"
   ]
  },
  {
   "cell_type": "code",
   "execution_count": 21,
   "id": "376231f1",
   "metadata": {},
   "outputs": [],
   "source": [
    "sum_purchases_visits = [(sum_purchases[i] - mean_sum_purchases)*(visits[i] - mean_visits) for i in range(len(sum_purchases))]"
   ]
  },
  {
   "cell_type": "code",
   "execution_count": 22,
   "id": "2f76a9b2",
   "metadata": {},
   "outputs": [],
   "source": [
    "cov_sum_purchases_visits = sum(sum_purchases_visits)/(len(sum_purchases)-1)"
   ]
  },
  {
   "cell_type": "code",
   "execution_count": 23,
   "id": "d010440b",
   "metadata": {},
   "outputs": [
    {
     "data": {
      "text/plain": [
       "-990.1368421052633"
      ]
     },
     "execution_count": 23,
     "metadata": {},
     "output_type": "execute_result"
    }
   ],
   "source": [
    "cov_sum_purchases_visits"
   ]
  },
  {
   "cell_type": "code",
   "execution_count": 24,
   "id": "0c0a0b12",
   "metadata": {},
   "outputs": [
    {
     "data": {
      "text/plain": [
       "array([[ 1.26459773e+06, -9.90136842e+02],\n",
       "       [-9.90136842e+02,  8.46315789e+00]])"
      ]
     },
     "execution_count": 24,
     "metadata": {},
     "output_type": "execute_result"
    }
   ],
   "source": [
    "np.cov(sum_purchases,visits)"
   ]
  },
  {
   "cell_type": "code",
   "execution_count": null,
   "id": "e3f7e9c6",
   "metadata": {},
   "outputs": [],
   "source": []
  }
 ],
 "metadata": {
  "kernelspec": {
   "display_name": "Python 3 (ipykernel)",
   "language": "python",
   "name": "python3"
  },
  "language_info": {
   "codemirror_mode": {
    "name": "ipython",
    "version": 3
   },
   "file_extension": ".py",
   "mimetype": "text/x-python",
   "name": "python",
   "nbconvert_exporter": "python",
   "pygments_lexer": "ipython3",
   "version": "3.11.5"
  }
 },
 "nbformat": 4,
 "nbformat_minor": 5
}
