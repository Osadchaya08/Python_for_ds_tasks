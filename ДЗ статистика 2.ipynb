{
 "cells": [
  {
   "cell_type": "code",
   "execution_count": 9,
   "id": "a0fd8c52",
   "metadata": {},
   "outputs": [],
   "source": [
    "# Завдання № 1\n",
    "import pandas as pd\n",
    "import numpy as np\n",
    "from scipy.stats import norm\n",
    "import matplotlib.pyplot as plt\n",
    "from scipy.stats import ttest_1samp"
   ]
  },
  {
   "cell_type": "code",
   "execution_count": 10,
   "id": "7a11c5dd",
   "metadata": {},
   "outputs": [],
   "source": [
    "data = pd.read_csv('/Users/applebuy/Downloads/data_statistics/data.csv')"
   ]
  },
  {
   "cell_type": "code",
   "execution_count": 11,
   "id": "6631c273",
   "metadata": {},
   "outputs": [
    {
     "data": {
      "text/plain": [
       "(100, 2)"
      ]
     },
     "execution_count": 11,
     "metadata": {},
     "output_type": "execute_result"
    }
   ],
   "source": [
    "data.shape"
   ]
  },
  {
   "cell_type": "code",
   "execution_count": 12,
   "id": "bf0e5d0f",
   "metadata": {},
   "outputs": [],
   "source": [
    "data = df['data'].values"
   ]
  },
  {
   "cell_type": "code",
   "execution_count": 13,
   "id": "5c0bdd70",
   "metadata": {},
   "outputs": [],
   "source": [
    "null_mean = 20\n",
    "t_stat, p_value = ttest_1samp(data, null_mean)"
   ]
  },
  {
   "cell_type": "code",
   "execution_count": 14,
   "id": "de9f408b",
   "metadata": {},
   "outputs": [
    {
     "name": "stdout",
     "output_type": "stream",
     "text": [
      "T-statistic: -0.9953477389335053\n",
      "P-value: 0.3219937839011988\n"
     ]
    }
   ],
   "source": [
    "print(f\"T-statistic: {t_stat}\")\n",
    "print(f\"P-value: {p_value}\")"
   ]
  },
  {
   "cell_type": "code",
   "execution_count": 16,
   "id": "01d40fc2",
   "metadata": {},
   "outputs": [
    {
     "name": "stdout",
     "output_type": "stream",
     "text": [
      "Не вдається відхилити нульову гіпотезу. Немає статистично значущого збільшення середньої суми чека.\n"
     ]
    }
   ],
   "source": [
    "alpha = 0.05\n",
    "if p_value < alpha:\n",
    "    print(\"Відкинути нульову гіпотезу. Середня сума чека статистично достовірно зросла.\")\n",
    "else:\n",
    "    print(\"Не вдається відхилити нульову гіпотезу. Немає статистично значущого збільшення середньої суми чека.\")"
   ]
  }
 ],
 "metadata": {
  "kernelspec": {
   "display_name": "Python 3 (ipykernel)",
   "language": "python",
   "name": "python3"
  },
  "language_info": {
   "codemirror_mode": {
    "name": "ipython",
    "version": 3
   },
   "file_extension": ".py",
   "mimetype": "text/x-python",
   "name": "python",
   "nbconvert_exporter": "python",
   "pygments_lexer": "ipython3",
   "version": "3.11.5"
  }
 },
 "nbformat": 4,
 "nbformat_minor": 5
}
