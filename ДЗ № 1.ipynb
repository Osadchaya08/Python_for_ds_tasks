{
 "cells": [
  {
   "cell_type": "code",
   "execution_count": 2,
   "id": "ab6f7a98",
   "metadata": {},
   "outputs": [],
   "source": [
    "name = \"Apple Golden\"\n",
    "nomber = 10 "
   ]
  },
  {
   "cell_type": "code",
   "execution_count": 3,
   "id": "0948cc4a",
   "metadata": {},
   "outputs": [
    {
     "data": {
      "text/plain": [
       "int"
      ]
     },
     "execution_count": 3,
     "metadata": {},
     "output_type": "execute_result"
    }
   ],
   "source": [
    "type (nomber)"
   ]
  },
  {
   "cell_type": "code",
   "execution_count": 4,
   "id": "4c35acd7",
   "metadata": {},
   "outputs": [],
   "source": [
    "nomber = nomber + 12"
   ]
  },
  {
   "cell_type": "code",
   "execution_count": 5,
   "id": "5aa8b7b8",
   "metadata": {},
   "outputs": [
    {
     "data": {
      "text/plain": [
       "22"
      ]
     },
     "execution_count": 5,
     "metadata": {},
     "output_type": "execute_result"
    }
   ],
   "source": [
    "nomber"
   ]
  },
  {
   "cell_type": "code",
   "execution_count": 3,
   "id": "cdceabbe",
   "metadata": {},
   "outputs": [],
   "source": [
    "a = 101\n",
    "b = 210\n",
    "c = 111\n",
    "d = 402\n",
    "result = ((a + b) * c) / d "
   ]
  },
  {
   "cell_type": "code",
   "execution_count": 4,
   "id": "f4d43338",
   "metadata": {
    "scrolled": false
   },
   "outputs": [
    {
     "data": {
      "text/plain": [
       "85.8731343283582"
      ]
     },
     "execution_count": 4,
     "metadata": {},
     "output_type": "execute_result"
    }
   ],
   "source": [
    "result\n"
   ]
  },
  {
   "cell_type": "code",
   "execution_count": 5,
   "id": "243d2445",
   "metadata": {},
   "outputs": [],
   "source": [
    "print = 11283 % 89"
   ]
  },
  {
   "cell_type": "code",
   "execution_count": 13,
   "id": "52494673",
   "metadata": {},
   "outputs": [
    {
     "data": {
      "text/plain": [
       "126"
      ]
     },
     "execution_count": 13,
     "metadata": {},
     "output_type": "execute_result"
    }
   ],
   "source": [
    "print"
   ]
  },
  {
   "cell_type": "code",
   "execution_count": 11,
   "id": "d42b5458",
   "metadata": {},
   "outputs": [],
   "source": [
    "print = 11283 // 89"
   ]
  },
  {
   "cell_type": "code",
   "execution_count": 12,
   "id": "c0a0018f",
   "metadata": {},
   "outputs": [
    {
     "data": {
      "text/plain": [
       "126"
      ]
     },
     "execution_count": 12,
     "metadata": {},
     "output_type": "execute_result"
    }
   ],
   "source": [
    "print"
   ]
  },
  {
   "cell_type": "code",
   "execution_count": 15,
   "id": "417be0c2",
   "metadata": {},
   "outputs": [],
   "source": [
    "name = \"Alona\""
   ]
  },
  {
   "cell_type": "code",
   "execution_count": 18,
   "id": "052d2c63",
   "metadata": {},
   "outputs": [],
   "source": [
    "surname = \"Liulchuk\""
   ]
  },
  {
   "cell_type": "code",
   "execution_count": 23,
   "id": "93a30380",
   "metadata": {},
   "outputs": [],
   "source": [
    "name_surname = \"Alona\" + \"Liulchuk\""
   ]
  },
  {
   "cell_type": "code",
   "execution_count": 30,
   "id": "2a47bd25",
   "metadata": {},
   "outputs": [
    {
     "data": {
      "text/plain": [
       "'0x10d0f29b0'"
      ]
     },
     "execution_count": 30,
     "metadata": {},
     "output_type": "execute_result"
    }
   ],
   "source": [
    "hex (id(name_surname))"
   ]
  },
  {
   "cell_type": "code",
   "execution_count": 25,
   "id": "5e8be72d",
   "metadata": {},
   "outputs": [
    {
     "data": {
      "text/plain": [
       "'AlonaLiulchuk'"
      ]
     },
     "execution_count": 25,
     "metadata": {},
     "output_type": "execute_result"
    }
   ],
   "source": [
    "name_surname #  не змогла знайти, як додати пробіл в ім'я та прізвище"
   ]
  },
  {
   "cell_type": "code",
   "execution_count": 68,
   "id": "fa5e0f1a",
   "metadata": {},
   "outputs": [],
   "source": [
    "name_surname = \"Alona Liulchuk\""
   ]
  },
  {
   "cell_type": "code",
   "execution_count": 72,
   "id": "d01c782b",
   "metadata": {},
   "outputs": [],
   "source": [
    "uppercase_name_surname = name_surname.upper()"
   ]
  },
  {
   "cell_type": "code",
   "execution_count": 74,
   "id": "b9f515b7",
   "metadata": {},
   "outputs": [],
   "source": [
    "print = __builtin__.print"
   ]
  },
  {
   "cell_type": "code",
   "execution_count": 75,
   "id": "cc7deffa",
   "metadata": {},
   "outputs": [
    {
     "name": "stdout",
     "output_type": "stream",
     "text": [
      "ALONA LIULCHUK\n"
     ]
    }
   ],
   "source": [
    "print(uppercase_name_surname)"
   ]
  },
  {
   "cell_type": "code",
   "execution_count": 76,
   "id": "66310d00",
   "metadata": {},
   "outputs": [],
   "source": [
    "name_surname = \"Alona Liulchuk\""
   ]
  },
  {
   "cell_type": "code",
   "execution_count": 85,
   "id": "e17921bb",
   "metadata": {},
   "outputs": [
    {
     "name": "stdout",
     "output_type": "stream",
     "text": [
      "0\n"
     ]
    }
   ],
   "source": [
    "print (s.find(\"Alona\"))"
   ]
  },
  {
   "cell_type": "code",
   "execution_count": 87,
   "id": "1be56a1c",
   "metadata": {},
   "outputs": [
    {
     "name": "stdout",
     "output_type": "stream",
     "text": [
      "3\n"
     ]
    }
   ],
   "source": [
    "print (s.find(\"na\"))"
   ]
  },
  {
   "cell_type": "code",
   "execution_count": 88,
   "id": "0a51ec55",
   "metadata": {},
   "outputs": [
    {
     "name": "stdout",
     "output_type": "stream",
     "text": [
      "1\n"
     ]
    }
   ],
   "source": [
    "print (s.find(\"lona\"))"
   ]
  },
  {
   "cell_type": "code",
   "execution_count": 89,
   "id": "c1fdc907",
   "metadata": {},
   "outputs": [
    {
     "name": "stdout",
     "output_type": "stream",
     "text": [
      "13\n"
     ]
    }
   ],
   "source": [
    "print (s.find(\"k\"))"
   ]
  },
  {
   "cell_type": "code",
   "execution_count": 90,
   "id": "c8f4eb12",
   "metadata": {},
   "outputs": [
    {
     "name": "stdout",
     "output_type": "stream",
     "text": [
      "14\n"
     ]
    }
   ],
   "source": [
    "print(len(s))"
   ]
  },
  {
   "cell_type": "code",
   "execution_count": 104,
   "id": "1dda9776",
   "metadata": {},
   "outputs": [],
   "source": [
    "capital_name = \"Antananarivo\""
   ]
  },
  {
   "cell_type": "code",
   "execution_count": 105,
   "id": "2cb4a050",
   "metadata": {},
   "outputs": [],
   "source": [
    "count_a = capital_name.lower().count('a')"
   ]
  },
  {
   "cell_type": "code",
   "execution_count": 106,
   "id": "c37cde5f",
   "metadata": {},
   "outputs": [
    {
     "name": "stdout",
     "output_type": "stream",
     "text": [
      "Кількість літер 'a': 4\n"
     ]
    }
   ],
   "source": [
    "print(\"Кількість літер 'a':\", count_a)"
   ]
  },
  {
   "cell_type": "code",
   "execution_count": 107,
   "id": "644b2337",
   "metadata": {},
   "outputs": [],
   "source": [
    "my_string = \"The quick brown fox jumps over the lazy dog!!!\""
   ]
  },
  {
   "cell_type": "code",
   "execution_count": 114,
   "id": "21f769ee",
   "metadata": {},
   "outputs": [
    {
     "name": "stdout",
     "output_type": "stream",
     "text": [
      "False\n"
     ]
    }
   ],
   "source": [
    "print(s.startswith(\"The\"))"
   ]
  },
  {
   "cell_type": "code",
   "execution_count": 115,
   "id": "acbff82c",
   "metadata": {},
   "outputs": [
    {
     "name": "stdout",
     "output_type": "stream",
     "text": [
      "False\n"
     ]
    }
   ],
   "source": [
    "print(s.endswith(\"!\"))"
   ]
  },
  {
   "cell_type": "code",
   "execution_count": 121,
   "id": "2a74eefe",
   "metadata": {},
   "outputs": [
    {
     "name": "stdout",
     "output_type": "stream",
     "text": [
      "['The', 'quick', 'brown', 'fox', 'jumps', 'over', 'the', 'lazy', 'dog!!!']\n"
     ]
    }
   ],
   "source": [
    "print(my_string.split())"
   ]
  },
  {
   "cell_type": "code",
   "execution_count": 122,
   "id": "9e01ca50",
   "metadata": {},
   "outputs": [
    {
     "data": {
      "text/plain": [
       "'The_quick_brown_fox_jumps_over_the_lazy_dog!!!'"
      ]
     },
     "execution_count": 122,
     "metadata": {},
     "output_type": "execute_result"
    }
   ],
   "source": [
    "\"_\".join(['The', 'quick', 'brown', 'fox', 'jumps', 'over', 'the', 'lazy', 'dog!!!'])"
   ]
  },
  {
   "cell_type": "code",
   "execution_count": 129,
   "id": "963c77e6",
   "metadata": {},
   "outputs": [
    {
     "data": {
      "text/plain": [
       "[1, 2, 3, 4, 5]"
      ]
     },
     "execution_count": 129,
     "metadata": {},
     "output_type": "execute_result"
    }
   ],
   "source": [
    "my_list = [0, 1, 2, 3, 4, 5, 6, 7, 8, 9]\n",
    "my_list[1:6]"
   ]
  },
  {
   "cell_type": "code",
   "execution_count": 132,
   "id": "b99edfa9",
   "metadata": {},
   "outputs": [
    {
     "data": {
      "text/plain": [
       "[7, 8, 9]"
      ]
     },
     "execution_count": 132,
     "metadata": {},
     "output_type": "execute_result"
    }
   ],
   "source": [
    "my_list = [0, 1, 2, 3, 4, 5, 6, 7, 8, 9]\n",
    "my_list[7:10]"
   ]
  },
  {
   "cell_type": "code",
   "execution_count": 133,
   "id": "69c066b1",
   "metadata": {},
   "outputs": [],
   "source": [
    "my_list = [0, 1, 2, 3, 4, 5, 6, 7, 8, 9]"
   ]
  },
  {
   "cell_type": "code",
   "execution_count": 134,
   "id": "2b73fb91",
   "metadata": {},
   "outputs": [],
   "source": [
    "my_list_sorted = sorted(my_list)"
   ]
  },
  {
   "cell_type": "code",
   "execution_count": 135,
   "id": "118c7cd6",
   "metadata": {},
   "outputs": [
    {
     "name": "stdout",
     "output_type": "stream",
     "text": [
      "Відсортований список: [0, 1, 2, 3, 4, 5, 6, 7, 8, 9]\n"
     ]
    }
   ],
   "source": [
    "print(\"Відсортований список:\", my_list_sorted)"
   ]
  },
  {
   "cell_type": "code",
   "execution_count": 136,
   "id": "452504fa",
   "metadata": {},
   "outputs": [],
   "source": [
    "my_list = [0, 1, 2, 3, 4, 5, 6, 7, 8, 9]"
   ]
  },
  {
   "cell_type": "code",
   "execution_count": 138,
   "id": "ff67366b",
   "metadata": {},
   "outputs": [],
   "source": [
    "max_value = max(my_list)\n",
    "min_value = min(my_list)"
   ]
  },
  {
   "cell_type": "code",
   "execution_count": 139,
   "id": "720e23f2",
   "metadata": {},
   "outputs": [],
   "source": [
    "answer = f\"Максимальний елемент: {max_value}, Мінімальний елемент: {min_value}\""
   ]
  },
  {
   "cell_type": "code",
   "execution_count": 140,
   "id": "c7637899",
   "metadata": {},
   "outputs": [
    {
     "name": "stdout",
     "output_type": "stream",
     "text": [
      "Максимальний елемент: 9, Мінімальний елемент: 0\n"
     ]
    }
   ],
   "source": [
    "print(answer)"
   ]
  },
  {
   "cell_type": "code",
   "execution_count": 141,
   "id": "5308dd33",
   "metadata": {},
   "outputs": [],
   "source": [
    "my_list = [0, 1, 2, 3, 4, 5, 6, 7, 8, 9, 10, 11, 12, 13, 14, 15, 16, 17, 18, 19]"
   ]
  },
  {
   "cell_type": "code",
   "execution_count": 142,
   "id": "93cd6467",
   "metadata": {},
   "outputs": [],
   "source": [
    "my_list_2 = my_list[10::11]"
   ]
  },
  {
   "cell_type": "code",
   "execution_count": 143,
   "id": "8d08ff20",
   "metadata": {},
   "outputs": [
    {
     "name": "stdout",
     "output_type": "stream",
     "text": [
      "my_list_2: [10]\n"
     ]
    }
   ],
   "source": [
    "print(\"my_list_2:\", my_list_2)"
   ]
  },
  {
   "cell_type": "code",
   "execution_count": 144,
   "id": "7daa21bd",
   "metadata": {},
   "outputs": [],
   "source": [
    "new_dict = {}"
   ]
  },
  {
   "cell_type": "code",
   "execution_count": 145,
   "id": "eda3a656",
   "metadata": {},
   "outputs": [],
   "source": [
    "new_dict [\"Mary\"] = 12\n",
    "new_dict [\"Petr\"] = 7\n",
    "new_dict [\"Marly\"] = 10\n",
    "new_dict [\"Serg\"] = 8\n",
    "new_dict [\"Olga\"] = 5"
   ]
  },
  {
   "cell_type": "code",
   "execution_count": 146,
   "id": "b635f9d4",
   "metadata": {},
   "outputs": [
    {
     "data": {
      "text/plain": [
       "{'Mary': 12, 'Petr': 7, 'Marly': 10, 'Serg': 8, 'Olga': 5}"
      ]
     },
     "execution_count": 146,
     "metadata": {},
     "output_type": "execute_result"
    }
   ],
   "source": [
    "new_dict"
   ]
  },
  {
   "cell_type": "code",
   "execution_count": 149,
   "id": "2a2122d1",
   "metadata": {},
   "outputs": [],
   "source": [
    "new_dict[\"Tiffany\"] = 10"
   ]
  },
  {
   "cell_type": "code",
   "execution_count": 150,
   "id": "01c11768",
   "metadata": {},
   "outputs": [
    {
     "data": {
      "text/plain": [
       "dict_items([('Mary', 12), ('Petr', 7), ('Marly', 10), ('Serg', 8), ('Olga', 5), ('Tiffany', 10)])"
      ]
     },
     "execution_count": 150,
     "metadata": {},
     "output_type": "execute_result"
    }
   ],
   "source": [
    "new_dict.items()"
   ]
  },
  {
   "cell_type": "code",
   "execution_count": null,
   "id": "b87cb4ca",
   "metadata": {},
   "outputs": [],
   "source": []
  }
 ],
 "metadata": {
  "kernelspec": {
   "display_name": "Python 3 (ipykernel)",
   "language": "python",
   "name": "python3"
  },
  "language_info": {
   "codemirror_mode": {
    "name": "ipython",
    "version": 3
   },
   "file_extension": ".py",
   "mimetype": "text/x-python",
   "name": "python",
   "nbconvert_exporter": "python",
   "pygments_lexer": "ipython3",
   "version": "3.11.5"
  }
 },
 "nbformat": 4,
 "nbformat_minor": 5
}
