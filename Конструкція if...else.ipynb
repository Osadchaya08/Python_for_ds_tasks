{
 "cells": [
  {
   "cell_type": "code",
   "execution_count": 4,
   "id": "5776deba",
   "metadata": {},
   "outputs": [],
   "source": [
    "# Завдання № 1\n",
    "temperature = 20"
   ]
  },
  {
   "cell_type": "code",
   "execution_count": 5,
   "id": "011f6ad6",
   "metadata": {},
   "outputs": [
    {
     "name": "stdout",
     "output_type": "stream",
     "text": [
      "Це приємний день\n"
     ]
    }
   ],
   "source": [
    "if temperature >= 25:\n",
    "    print(\"Теплий день\")\n",
    "elif 15 <= temperature <= 25:\n",
    "    print(\"Це приємний день\")\n",
    "else:\n",
    "    print(\"Це холодний день\")"
   ]
  },
  {
   "cell_type": "code",
   "execution_count": 6,
   "id": "9e367907",
   "metadata": {},
   "outputs": [],
   "source": [
    "# Завдання № 2\n",
    "score = 75"
   ]
  },
  {
   "cell_type": "code",
   "execution_count": 8,
   "id": "851cd0de",
   "metadata": {},
   "outputs": [
    {
     "name": "stdout",
     "output_type": "stream",
     "text": [
      "A\n"
     ]
    }
   ],
   "source": [
    "if score <= 90:\n",
    "    print(\"A\")\n",
    "elif score <=80:\n",
    "    print(\"B\")\n",
    "elif score <=70:  \n",
    "    print(\"C\")\n",
    "elif score <=60:\n",
    "    print(\"D\")\n",
    "else: \n",
    "    print(\"F\")"
   ]
  },
  {
   "cell_type": "code",
   "execution_count": 9,
   "id": "0f171dc1",
   "metadata": {},
   "outputs": [],
   "source": [
    "# Завдання № 3\n",
    "year = 2024 "
   ]
  },
  {
   "cell_type": "code",
   "execution_count": 10,
   "id": "12d45411",
   "metadata": {},
   "outputs": [
    {
     "name": "stdout",
     "output_type": "stream",
     "text": [
      "Не високосний рік\n"
     ]
    }
   ],
   "source": [
    "if (year / 4 == 0 and year / 100 != 0) or (year / 400 == 0):\n",
    "    print(\"Високосний рік\")\n",
    "else:\n",
    "    print(\"Не високосний рік\")"
   ]
  }
 ],
 "metadata": {
  "kernelspec": {
   "display_name": "Python 3 (ipykernel)",
   "language": "python",
   "name": "python3"
  },
  "language_info": {
   "codemirror_mode": {
    "name": "ipython",
    "version": 3
   },
   "file_extension": ".py",
   "mimetype": "text/x-python",
   "name": "python",
   "nbconvert_exporter": "python",
   "pygments_lexer": "ipython3",
   "version": "3.11.5"
  }
 },
 "nbformat": 4,
 "nbformat_minor": 5
}
